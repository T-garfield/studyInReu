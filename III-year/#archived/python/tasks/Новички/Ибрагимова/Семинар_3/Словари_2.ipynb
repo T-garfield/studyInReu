{
  "nbformat": 4,
  "nbformat_minor": 0,
  "metadata": {
    "colab": {
      "name": "Словари_2.ipynb",
      "provenance": []
    },
    "kernelspec": {
      "name": "python3",
      "display_name": "Python 3"
    },
    "language_info": {
      "name": "python"
    }
  },
  "cells": [
    {
      "cell_type": "code",
      "metadata": {
        "id": "F8X-TnesCJr0"
      },
      "source": [
        "#Заданиие 1\n",
        "zodiac_elements = {\"water\": [\"Cancer\", \"Scorpio\", \"Pisces\"], \"fire\": [\"Aries\", \"Leo\", \"Sagittarius\"], \n",
        "                   \"earth\": [\"Taurus\", \"Virgo\", \"Capricorn\"], \"air\":[\"Gemini\", \"Libra\", \"Aquarius\"]}\n",
        "print(zodiac_elements[\"fire\"])\n",
        "\n",
        "\n",
        "zodiac_elements = {\"water\": [\"Cancer\", \"Scorpio\", \"Pisces\"], \n",
        "                   \"fire\": [\"Aries\", \"Leo\", \"Sagittarius\"], \n",
        "                   \"earth\": [\"Taurus\", \"Virgo\", \"Capricorn\"], \n",
        "                   \"air\":[\"Gemini\", \"Libra\", \"Aquarius\"]}\n",
        "zodiac_elements.update({\"energy\":\"Not a Zodiac element\"})\n",
        "key_to_check = \"energy\"\n",
        "\n",
        "#Заданиие 2\n",
        "caffeine_level = {\"espresso\": 64, \"chai\": 40, \"decaf\": 0, \"drip\": 120} \n",
        "caffeine_level['matcha']=30\n",
        "try:\n",
        "  print(caffeine_level['matcha']) \n",
        "except KeyError:\n",
        "  print(\"That key doesn't exist!\")\n",
        "\n",
        "#Заданиие 3\n",
        "user_ids = {\"teraCoder\": 100019, \"pythonGuy\": 182921, \"samTheJavaMaam\": 123112, \"lyleLoop\": 102931, \"keysmithKeith\": 129384}\n",
        "tc_id=user_ids.get(\"teraCoder\", 100000)\n",
        "print(tc_id)\n",
        "stack_id = user_ids.get(\"superStackSmash\", 100000)\n",
        "print(stack_id)\n",
        "\n",
        "for users in user_ids.keys():\n",
        "  print(users)\n",
        "\n",
        "user_ids = {\"teraCoder\": 100019, \"pythonGuy\": 182921, \"samTheJavaMaam\": 123112, \"lyleLoop\": 102931, \"keysmithKeith\": 129384}\n",
        "num_exercises = {\"functions\": 10, \"syntax\": 13, \"control flow\": 15, \"loops\":22, \"lists\": 19, \"classes\": 18, \"dictionaries\": 18}\n",
        "users = user_ids.keys()\n",
        "classes = num_exercises.keys()\n",
        "print(users)\n",
        "print(classes)\n",
        "\n",
        "#Заданиие 5\n",
        "total_exercises = 0\n",
        "num_exercises = {\"functions\": 10, \"syntax\": 13, \"control flow\": 15, \"loops\":22, \"lists\": 19, \"classes\": 18, \"dictionaries\": 18}\n",
        "for item in num_exercises.values():\n",
        "    total_exercises += item\n",
        "print(total_exercises)\n",
        "\n",
        "#Заданиие 6\n",
        "tarot = { 1: \"The Magician\", 2: \"The High Priestess\", 3: \"The Empress\",\n",
        "4: \"The Emperor\", 5: \"The Hierophant\", 6: \"The Lovers\", 7: \"The Chariot\", 8: \"Strength\", 9: \"The Hermit\", 10: \"Wheel of Fortune\", 11: \"Justice\",\n",
        "12: \"The Hanged Man\", 13: \"Death\", 14: \"Temperance\", 15: \"The Devil\", 16: \"The Tower\", 17: \"The Star\", 18: \"The Moon\", 19: \"The Sun\", 20: \"Judgement\", 21: \"The World\", 22: \"The Fool\"}\n",
        "spread = {}\n",
        "spread[\"Past\"] = tarot.get(13)\n",
        "spread[\"Presence\"] = tarot.get(22)\n",
        "spread[\"Future\"] = tarot.get(10)\n",
        "print(spread)\n"
      ],
      "execution_count": null,
      "outputs": []
    }
  ]
}