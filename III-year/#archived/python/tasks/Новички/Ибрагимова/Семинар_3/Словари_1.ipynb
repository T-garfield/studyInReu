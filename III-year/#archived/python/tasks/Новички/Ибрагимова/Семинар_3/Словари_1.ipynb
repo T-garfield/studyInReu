{
  "nbformat": 4,
  "nbformat_minor": 0,
  "metadata": {
    "colab": {
      "name": "Словари_1.ipynb",
      "provenance": []
    },
    "kernelspec": {
      "name": "python3",
      "display_name": "Python 3"
    },
    "language_info": {
      "name": "python"
    }
  },
  "cells": [
    {
      "cell_type": "code",
      "metadata": {
        "id": "As7pRqUlBlQP"
      },
      "source": [
        "#Задание 1\n",
        "sensors = {\"living room\": 21, \"kitchen\": 23, \"bedroom\": 20, \"storeroom\": 22}\n",
        "num_cameras = {\"backyard\": 6, \"garage\": 2, \"driveway\": 1}\n",
        "\n",
        "#Задание 2\n",
        "dictionary = {\"mountain\": \"orod\", \"bread\": \"bass\", \"friend\": \"mellon\", \"horse\": \"roch\"}\n",
        "\n",
        "#Задание 3\n",
        "animals_in_zoo = {}\n",
        "animals_in_zoo ['зебры']= 8\n",
        "animals_in_zoo ['обезьяны']= 12\n",
        "animals_in_zoo ['динозавры']= 0\n",
        "print(animals_in_zoo)\n",
        "\n",
        "#Задание 4\n",
        "user_ids = {\"teraCoder\": 9018293, \"proProgrammer\": 119238}\n",
        "user_ids.update({\"theLooper\": 138475, \"stringQueen\": 85739})\n",
        "print(user_ids)\n",
        "\n",
        "#Задание 5\n",
        "oscar_winners = {\"Best Picture\": \"La La Land\", \"Best Actor\": \"Casey Affleck\", \"Best Actress\": \"Emma Stone\", \"Animated Feature\": \"Zootopia\"}\n",
        "oscar_winners[\"Supporting Actress\"] = 'Viola Davis'\n",
        "oscar_winners[\"Best Picture\"] = 'Moonlight'\n",
        "print(oscar_winners)\n",
        "\n",
        "#Задание 6\n",
        "drinks = [\"espresso\", \"chai\", \"decaf\", \"drip\"] \n",
        "caffeine = [64, 40, 0, 120]\n",
        "zipped_drinks = zip(drinks, caffeine)\n",
        "drinks_to_caffeine = {key:value for key, value in zipped_drinks}\n",
        "print (drinks_to_caffeine)\n",
        "\n",
        "#Задание 7\n",
        "songs = [\"Like a Rolling Stone\", \"Satisfaction\", \"Imagine\", \"What's Going On\", \"Respect\", \"Good Vibrations\"]\n",
        "playcounts = [78, 29, 44, 21, 89, 5]\n",
        "plays = {key:value for key, value in zip(songs, playcounts)}\n",
        "print(plays)\n",
        "plays [\"Purple Haze\"]=1\n",
        "plays [\"Respect\"]=5\n",
        "library = {'The Best Songs': plays, \"Sunday Feelings\":[]}\n",
        "print (library)"
      ],
      "execution_count": null,
      "outputs": []
    }
  ]
}