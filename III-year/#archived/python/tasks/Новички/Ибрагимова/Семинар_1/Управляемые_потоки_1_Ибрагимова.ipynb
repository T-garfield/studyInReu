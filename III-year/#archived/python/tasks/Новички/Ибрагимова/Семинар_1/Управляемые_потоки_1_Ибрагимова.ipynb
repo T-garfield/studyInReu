{
  "nbformat": 4,
  "nbformat_minor": 0,
  "metadata": {
    "colab": {
      "name": "Управляемые потоки_1_Ибрагимова.ipynb",
      "provenance": [],
      "collapsed_sections": []
    },
    "kernelspec": {
      "name": "python3",
      "display_name": "Python 3"
    },
    "language_info": {
      "name": "python"
    }
  },
  "cells": [
    {
      "cell_type": "code",
      "metadata": {
        "id": "tfjIwsNFHqrG",
        "colab": {
          "base_uri": "https://localhost:8080/"
        },
        "outputId": "ca201d57-a26a-415f-ba2d-a2bc4752dbb2"
      },
      "source": [
        "#Операторы отношения: равно и не равно\n",
        "a =  (5 * 2) - 1 == 8 + 1\n",
        "print (a)\n",
        "b = 13 - 6 != (3 * 2) + 1 \n",
        "print (b)\n",
        "c = 3 * (2 - 1) == 4 - 1\n",
        "print (c)\n",
        "\n",
        "#Логические переменные\n",
        "my_baby_bool = 'true'\n",
        "print (my_baby_bool)\n",
        "my_baby_bool = True\n",
        "print (my_baby_bool)\n",
        "\n",
        "#Выражения if\n",
        "user_name = input()\n",
        "Dmitriy_check = \"Дмитрий, твое рабочее место находится в другой комнате. Отойди от чужого компьютера и займись работой!\"\n",
        "check = \"Добро пожаловать!\"\n",
        "if user_name == \"Дмитрий\":\n",
        "    print (Dmitriy_check)\n",
        "if user_name == \"Ангелина\":\n",
        "    print (check)\n",
        "\n",
        "#Операторы отношения II\n",
        "enter_number = 3\n",
        "if enter_number <= 3:\n",
        "    print ( f'Попробуйте еще раз. У вас осталось {3-enter_number} попыток.')\n",
        "if enter_number > 3:\n",
        "    print (\"Вы превысили максимальное число попыток. Ваша учетная запись заблокирована. Для разблокировки обратитесь в службу поддержки.\")\n",
        "\n",
        "#Логические операторы: and\n",
        "#Задание_1\n",
        "statement_one = (2+2+2>=6) and (-1*-1<0)\n",
        "statement_two = (4*2<=8) and (7-1==6)\n",
        "print (statement_one, statement_two)\n",
        "\n",
        "#Задание_2\n",
        "ARM = input()\n",
        "user_name = input()\n",
        "Dmitriy_check = \"Дмитрий, твое рабочее место находится в другой комнате. Отойди от чужого компьютера и займись работой!\"\n",
        "check = \"Добро пожаловать!\"\n",
        "if (user_name == \"Дмитрий\") and (ARM == 1): print (check)\n",
        "if (user_name == \"Ангелина\") and (ARM == 2): print (check)\n",
        "if (user_name == \"Василий\") and (ARM == 3): print (check)\n",
        "if (user_name == \"Екатерина\") and (ARM == 4): print (check)\n",
        "if (user_name == \"Дмитрий\") and (ARM > 1): print (Dmitriy_check)\n",
        "else : print(\"Логин или пароль не верный, попробуйте еще раз\")\n",
        "\n",
        "#Логические операторы: or\n",
        "ans1 = (2 - 1 > 3) or (-5 * 2 == -10)\n",
        "print (ans1)\n",
        "ans2 = (9 + 5 <= 15) or (7 != 4 + 3)\n",
        "print (ans2)\n",
        "\n",
        "#Выражение else\n",
        "user_name = input()\n",
        "Dmitriy_check = \"Дмитрий, твое рабочее место находится в другой комнате. Отойди от чужого компьютера и займись работой!\"\n",
        "check = \"Добро пожаловать!\"\n",
        "if user_name == \"Дмитрий\":\n",
        "    print (Dmitriy_check)\n",
        "else:\n",
        "    print (check)\n",
        "\n",
        "#Else if оператор\n",
        "grade = input()\n",
        "if grade >= 4: \n",
        "    print(\"A\")\n",
        "elif grade >= 3: \n",
        "    print(\"B\")\n",
        "elif grade >= 2: \n",
        "    print(\"C\")\n",
        "elif grade >= 1: \n",
        "    print(\"D\")\n",
        "else: print(\"F\")"
      ],
      "execution_count": null,
      "outputs": [
        {
          "output_type": "stream",
          "name": "stdout",
          "text": [
            "True\n",
            "False\n",
            "True\n",
            "true\n",
            "True\n"
          ]
        }
      ]
    }
  ]
}