{
  "nbformat": 4,
  "nbformat_minor": 0,
  "metadata": {
    "colab": {
      "name": "Синтакс_Ибрагимова.ipynb",
      "provenance": []
    },
    "kernelspec": {
      "name": "python3",
      "display_name": "Python 3"
    },
    "language_info": {
      "name": "python"
    }
  },
  "cells": [
    {
      "cell_type": "code",
      "metadata": {
        "colab": {
          "base_uri": "https://localhost:8080/"
        },
        "id": "LhKn1ysRKLuU",
        "outputId": "bc2ad335-668b-43b5-e6f2-2394282c0754"
      },
      "source": [
        "print ('Task 1')\n",
        "clothes =  'домашняя одежда'\n",
        "print ('У меня большой гардероб')\n",
        "print('Утром лучше всего подходит', clothes)\n",
        "print('Днем лучше всего подходит', clothes)\n",
        "print('Вечером лучше всего подходит', clothes)\n",
        "print('Ночью лучше всего подходит', clothes)\n",
        "meal =  'поке'\n",
        "print ('Мои предпочтения в еде')\n",
        "print ('На завтрак лучше всего подходит', meal)\n",
        "print ('На обед лучше всего подходит', meal)\n",
        "print ('На ужин лучше всего подходит', meal)\n",
        "\n",
        "print ('Task 2')\n",
        "quilt_width=8\n",
        "quilt_length=12\n",
        "print (quilt_width * quilt_length)\n",
        "quilt_length=8\n",
        "print (quilt_width * quilt_length)\n",
        "print ('Площадь треугольника')\n",
        "a=23\n",
        "b=42\n",
        "c=20\n",
        "p=(a+b+c)/2\n",
        "s_total = p*(p-a)*(p-b)*(p-c)\n",
        "sqrt = s_total ** 0.5\n",
        "print ('Площадь треугольника равна', sqrt)"
      ],
      "execution_count": 4,
      "outputs": [
        {
          "output_type": "stream",
          "name": "stdout",
          "text": [
            "Task 1\n",
            "У меня большой гардероб\n",
            "Утром лучше всего подходит домашняя одежда\n",
            "Днем лучше всего подходит домашняя одежда\n",
            "Вечером лучше всего подходит домашняя одежда\n",
            "Ночью лучше всего подходит домашняя одежда\n",
            "Мои предпочтения в еде\n",
            "На завтрак лучше всего подходит поке\n",
            "На обед лучше всего подходит поке\n",
            "На ужин лучше всего подходит поке\n",
            "Task 2\n",
            "96\n",
            "64\n",
            "Площадь треугольника\n",
            "Площадь треугольника равна 96.557948921878\n"
          ]
        }
      ]
    }
  ]
}