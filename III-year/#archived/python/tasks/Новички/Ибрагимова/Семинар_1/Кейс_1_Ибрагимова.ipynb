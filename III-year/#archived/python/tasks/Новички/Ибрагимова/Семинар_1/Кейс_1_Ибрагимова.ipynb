{
  "nbformat": 4,
  "nbformat_minor": 0,
  "metadata": {
    "colab": {
      "name": "Кейс_1_Ибрагимова.ipynb",
      "provenance": [],
      "collapsed_sections": []
    },
    "kernelspec": {
      "name": "python3",
      "display_name": "Python 3"
    },
    "language_info": {
      "name": "python"
    }
  },
  "cells": [
    {
      "cell_type": "code",
      "metadata": {
        "colab": {
          "base_uri": "https://localhost:8080/"
        },
        "id": "wrcvSwC1m7ti",
        "outputId": "3b7e7eac-146d-4776-edc6-3f719d122ddd"
      },
      "source": [
        "oil_work_price = 500\n",
        "oil_work_time = 0.7\n",
        "oil_work_cost = oil_work_price * oil_work_time\n",
        "oil_price = 700 + 700 * 0.05\n",
        "filtr_work_price = 450\n",
        "filtr_work_time = 0.5\n",
        "filtr_work_cost = filtr_work_price * filtr_work_time\n",
        "filtr_price = 300 + 300 * 0.05\n",
        "cost_sum = oil_work_cost + oil_price + filtr_work_cost + filtr_price\n",
        "net_sum_cost = cost_sum - (cost_sum * 0.03)\n",
        "\n",
        "print('Расчет работ по представленному автомобилю:')\n",
        "print('Замена масла (работы) ', oil_work_cost)\n",
        "print('Значение переменной ', oil_price)\n",
        "print('Масло Castrol ', oil_price)\n",
        "print('Замена воздушного фильтра ', filtr_work_cost)\n",
        "print('Воздушный фильтр ', filtr_price)\n",
        "print('Итого ', cost_sum)\n",
        "print('Персональная скидка 3% ')\n",
        "print('Итого с учетом скидки ', net_sum_cost)"
      ],
      "execution_count": 28,
      "outputs": [
        {
          "output_type": "stream",
          "name": "stdout",
          "text": [
            "Расчет работ по представленному автомобилю:\n",
            "Замена масла (работы)  350.0\n",
            "Значение переменной  735.0\n",
            "Масло Castrol  735.0\n",
            "Замена воздушного фильтра  225.0\n",
            "Воздушный фильтр  315.0\n",
            "Итого  1625.0\n",
            "Персональная скидка 3% \n",
            "Итого с учетом скидки  1576.25\n"
          ]
        }
      ]
    }
  ]
}