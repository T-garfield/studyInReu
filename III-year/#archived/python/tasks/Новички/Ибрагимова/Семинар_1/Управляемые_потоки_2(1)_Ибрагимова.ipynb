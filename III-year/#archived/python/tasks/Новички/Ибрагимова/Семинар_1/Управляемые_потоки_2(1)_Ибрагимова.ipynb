{
  "nbformat": 4,
  "nbformat_minor": 0,
  "metadata": {
    "colab": {
      "name": "Управляемые_потоки_2(1)_Ибрагимова.ipynb",
      "provenance": []
    },
    "kernelspec": {
      "name": "python3",
      "display_name": "Python 3"
    },
    "language_info": {
      "name": "python"
    }
  },
  "cells": [
    {
      "cell_type": "code",
      "metadata": {
        "id": "_gm6BREMfnsM"
      },
      "source": [
        "#Университет\n",
        "grade = int(input('Введите Ваш номер курса:'))\n",
        "if grade<2:\n",
        "  print ('Вам необходимо пройти в малый зал')\n",
        "elif grade==2:\n",
        "  print ('Вам необходимо пройти в большой зал')\n",
        "else:\n",
        "  print ('Вам необходимо пройти в тренажерный зал') \n"
      ],
      "execution_count": null,
      "outputs": []
    }
  ]
}