{
  "nbformat": 4,
  "nbformat_minor": 0,
  "metadata": {
    "colab": {
      "name": "Управляемые_потоки_2(2)_Ибрагимова.ipynb",
      "provenance": [],
      "collapsed_sections": []
    },
    "kernelspec": {
      "name": "python3",
      "display_name": "Python 3"
    },
    "language_info": {
      "name": "python"
    }
  },
  "cells": [
    {
      "cell_type": "code",
      "metadata": {
        "colab": {
          "base_uri": "https://localhost:8080/"
        },
        "id": "KbSY5Y3ahFMg",
        "outputId": "7f9e4dc4-3fae-42a6-d405-927cc9643bd0"
      },
      "source": [
        "#Колл-центр\n",
        "import random\n",
        "manager1_is_free = random.randint(0, 1); \n",
        "if manager1_is_free == 1: \n",
        "  manager1_is_free = True; \n",
        "else: manager1_is_free = False; \n",
        "manager2_is_free = random.randint(0, 1); \n",
        "if manager2_is_free == 1: \n",
        "  manager2_is_free = True; \n",
        "else: manager2_is_free = False; \n",
        "manager3_is_free = random.randint(0, 1); \n",
        "if manager3_is_free == 1: \n",
        "  manager3_is_free = True; \n",
        "else: manager3_is_free = False; \n",
        "manager4_is_free = random.randint(0, 1); \n",
        "if manager4_is_free == 1: \n",
        "  manager4_is_free = True; \n",
        "else: manager4_is_free = False; \n",
        "queue = random.randint(1, 10); \n",
        "\n",
        "if manager1_is_free == True: \n",
        "  manager_num = 1; \n",
        "elif manager2_is_free == True: \n",
        "  manager_num = 2; \n",
        "elif manager3_is_free == True: \n",
        "  manager_num = 3; \n",
        "elif manager4_is_free == True: \n",
        "  manager_num = 4; \n",
        "elif queue < 2: \n",
        "  manager_num = \"первый свободный менеджер\" \n",
        "else: \n",
        "  manager_num = \"главный менеджер\" \n",
        "\n",
        "manager_num = str(manager_num);\n",
        "print(\"Ваш звонок будет переадресован \" + manager_num + \" менеджеру\");\n",
        "print();\n",
        "\n"
      ],
      "execution_count": null,
      "outputs": [
        {
          "output_type": "stream",
          "name": "stdout",
          "text": [
            "Ваш звонок будет переадресован 4 менеджеру\n",
            "\n"
          ]
        }
      ]
    }
  ]
}