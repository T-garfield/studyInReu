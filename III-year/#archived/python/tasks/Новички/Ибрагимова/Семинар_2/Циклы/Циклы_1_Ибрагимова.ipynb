{
  "nbformat": 4,
  "nbformat_minor": 0,
  "metadata": {
    "colab": {
      "name": "Циклы_1_Ибрагимова.ipynb",
      "provenance": [],
      "collapsed_sections": []
    },
    "kernelspec": {
      "name": "python3",
      "display_name": "Python 3"
    },
    "language_info": {
      "name": "python"
    }
  },
  "cells": [
    {
      "cell_type": "code",
      "metadata": {
        "id": "YVCXz7QWt9jy"
      },
      "source": [
        "#Задание 1\n",
        "print();\n",
        "dog_breeds = ['french_bulldog', 'dalmatian', 'shihtzu', 'poodle', 'collie']\n",
        "for breed in dog_breeds:\n",
        " print(breed)\n",
        "print();\n",
        "print();\n",
        "\n",
        "#Задание 2\n",
        "print();\n",
        "board_games = ['Settlers of Catan', 'Carcassone', 'Power Grid', 'Agricola', 'Scrabble'];\n",
        "sport_games = ['football', 'football - American', 'hockey', 'baseball', 'cricket'];\n",
        "for game in board_games:\n",
        " print(game)\n",
        "for game in sport_games:\n",
        " print(game)\n",
        "print();\n",
        "print();\n",
        "\n",
        "#Задание 3\n",
        "print();\n",
        "promise = \"I will not chew gum in class\"\n",
        "for i in range(5):\n",
        "  print(promise)\n",
        "print();\n",
        "print();\n",
        "\n",
        "#Задание 4\n",
        "print();\n",
        "students_period_A = [\"Alex\", \"Briana\", \"Cheri\", \"Daniele\"];\n",
        "students_period_B = [\"Dora\", \"Minerva\", \"Alexa\", \"Obie\"];\n",
        "for student in students_period_A:\n",
        "  students_period_B.append(student)\n",
        "  print(student)\n",
        "print();\n",
        "print();\n",
        "\n",
        "#Задание 5\n",
        "print();\n",
        "dog_breeds_available_for_adoption = ['french_bulldog', 'dalmatian', 'shihtzu', 'poodle', 'collie'];\n",
        "dog_breed_I_want = 'dalmatian';\n",
        "for dog_breed in dog_breeds_available_for_adoption:\n",
        "  print(dog_breed)\n",
        "  if dog_breed == dog_breed_I_want:\n",
        "    print(\"У них есть собака, которую я хочу!\")\n",
        "    break"
      ],
      "execution_count": null,
      "outputs": []
    }
  ]
}