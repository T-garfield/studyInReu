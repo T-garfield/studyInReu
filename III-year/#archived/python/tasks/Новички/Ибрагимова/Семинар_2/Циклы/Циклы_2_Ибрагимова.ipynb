{
  "nbformat": 4,
  "nbformat_minor": 0,
  "metadata": {
    "colab": {
      "name": "Циклы_2_Ибрагимова.ipynb",
      "provenance": [],
      "collapsed_sections": []
    },
    "kernelspec": {
      "name": "python3",
      "display_name": "Python 3"
    },
    "language_info": {
      "name": "python"
    }
  },
  "cells": [
    {
      "cell_type": "code",
      "metadata": {
        "id": "wrBcPzlluelM"
      },
      "source": [
        "#Задание 1\n",
        "print();\n",
        "sales_data = [[12, 17, 22], [2, 10, 3], [5, 12, 13]];\n",
        "scoops_sold = 0;\n",
        "for sale in sales_data:\n",
        "  for number in sale:\n",
        "    print(number)\n",
        "    scoops_sold = scoops_sold + number\n",
        "print(str(scoops_sold));\n",
        "print();\n",
        "print();\n",
        "\n",
        "#Задание 2\n",
        "print();\n",
        "single_digits = range(10);\n",
        "squares = [];\n",
        "for i in single_digits:\n",
        "  print(i)\n",
        "  squares.append(i ** 2)\n",
        "print(squares);\n",
        "cubes = [i ** 3 for i in single_digits];\n",
        "print(cubes);"
      ],
      "execution_count": null,
      "outputs": []
    }
  ]
}