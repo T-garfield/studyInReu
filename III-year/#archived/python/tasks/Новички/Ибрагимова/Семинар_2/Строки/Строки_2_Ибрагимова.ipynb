{
  "nbformat": 4,
  "nbformat_minor": 0,
  "metadata": {
    "colab": {
      "name": "Строки_2_Ибрагимова.ipynb",
      "provenance": [],
      "collapsed_sections": []
    },
    "kernelspec": {
      "name": "python3",
      "display_name": "Python 3"
    },
    "language_info": {
      "name": "python"
    }
  },
  "cells": [
    {
      "cell_type": "code",
      "metadata": {
        "id": "7P0QiGdc6zjc"
      },
      "source": [
        "#Задание 1\n",
        "print();\n",
        "poem_title = \"spring storm\";\n",
        "poem_author = \"William Carlos Williams\";\n",
        "poem_title_fixed = poem_title.title()\n",
        "print(poem_title);\n",
        "print(poem_title_fixed);"
      ],
      "execution_count": null,
      "outputs": []
    }
  ]
}