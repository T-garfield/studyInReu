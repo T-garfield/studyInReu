{
  "nbformat": 4,
  "nbformat_minor": 0,
  "metadata": {
    "colab": {
      "name": "Функции_1_Ибрагимова.ipynb",
      "provenance": [],
      "collapsed_sections": []
    },
    "kernelspec": {
      "name": "python3",
      "display_name": "Python 3"
    },
    "language_info": {
      "name": "python"
    }
  },
  "cells": [
    {
      "cell_type": "code",
      "metadata": {
        "id": "1xY8pJWdnO1M"
      },
      "source": [
        "#Задание 1\n",
        "print();\n",
        "def create_spreadsheet(title):\n",
        "  print(\"Создание электронной таблицы с именем \" + title + \".\");\n",
        "create_spreadsheet(\"Загрузки\");\n",
        "def create_spreadsheet(title, row_count = 1000):\n",
        "  row_count = str(row_count);\n",
        "  print(\"Создание электронной таблицы с именем \" + title + \". Количество строк: \" + row_count + \".\");\n",
        "create_spreadsheet(\"Приложения\", 10);\n",
        "print();\n",
        "print();\n",
        "\n",
        "#Задание 2\n",
        "print();\n",
        "def calc_age(birth_year, current_year = 2049):\n",
        "  return current_year - birth_year\n",
        "my_age = str(calc_age(1993));\n",
        "dads_age = str(calc_age(1953));\n",
        "print(\"Мне \" + my_age + \" лет, а моему отцу - \" + dads_age + \".\");\n",
        "print();\n",
        "print();\n",
        "\n",
        "#Задание 3\n",
        "print();\n",
        "def get_boundaries(target, margin):\n",
        "  low_limit = target - margin\n",
        "  high_limit = target + margin\n",
        "  return low_limit, high_limit\n",
        "low_limit, high_limit = get_boundaries(100, 20);\n",
        "low_limit = str(low_limit);\n",
        "high_limit = str(high_limit);\n",
        "print(\"Нижний предел: \" + low_limit + \". Верхний предел: \" + high_limit + \".\");\n",
        "print();\n",
        "print();\n",
        "\n",
        "#Задание 4\n",
        "print();\n",
        "current_year = 2049\n",
        "def calc_age(birth_year):\n",
        "  age = current_year - birth_year\n",
        "  return age\n",
        "print(calc_age(1970));\n",
        "print();\n",
        "print();\n",
        "\n",
        "#Задание 5\n",
        "print();\n",
        "def repeat_stuff(stuff, repeats_num = 10):\n",
        "  return stuff * repeats_num\n",
        "print(repeat_stuff(\"Row\", 3));\n",
        "lirycs = repeat_stuff(\"Row\", 3) + \" Your boat.\";\n",
        "song = repeat_stuff(lirycs);\n",
        "print(song);"
      ],
      "execution_count": null,
      "outputs": []
    }
  ]
}