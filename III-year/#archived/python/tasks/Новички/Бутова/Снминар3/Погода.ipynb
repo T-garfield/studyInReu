{
  "nbformat": 4,
  "nbformat_minor": 0,
  "metadata": {
    "colab": {
      "name": "Погода.ipynb",
      "provenance": [],
      "collapsed_sections": []
    },
    "kernelspec": {
      "name": "python3",
      "display_name": "Python 3"
    },
    "language_info": {
      "name": "python"
    }
  },
  "cells": [
    {
      "cell_type": "code",
      "metadata": {
        "colab": {
          "base_uri": "https://localhost:8080/"
        },
        "id": "Us1-lRA4fOBo",
        "outputId": "2a00013b-6d16-40c7-b1c5-fcb1b1829b21"
      },
      "source": [
        "import requests\n",
        "import json\n",
        "\n",
        "#http://api.weatherapi.com/v1/current.json?key=a6f1c704cde7424c88270328212911&q\n",
        "API_KEY='a6f1c704cde7424c88270328212911'\n",
        "API_URL='http://api.weatherapi.com/v1'\n",
        "API_Method = '/current.json?'\n",
        "API_city = 'q=' + input('Введите город: ')\n",
        "\n",
        "response=requests.get(API_URL+API_Method+'key='+API_KEY+'&'+API_city).text\n",
        "a=json.loads(response)\n",
        "b=a['location']\n",
        "c=a['current']\n",
        "d=c['condition']\n",
        "print('Прогноз погоды в '+b['name'])\n",
        "print('Сейчас на улице ' + str(int(c['temp_c'])) + '°С.')\n",
        "print('Ощущается как '+ str(int(c['feelslike_c']))+ '°С.')\n",
        "print('Влажность составляет '+str(int(c[\"humidity\"]))+'%.')"
      ],
      "execution_count": 2,
      "outputs": [
        {
          "output_type": "stream",
          "name": "stdout",
          "text": [
            "Введите город: москва\n",
            "Прогноз погоды в Москва\n",
            "Сейчас на улице -2°С.\n",
            "Ощущается как -4°С.\n",
            "Влажность составляет 93%.\n"
          ]
        }
      ]
    }
  ]
}